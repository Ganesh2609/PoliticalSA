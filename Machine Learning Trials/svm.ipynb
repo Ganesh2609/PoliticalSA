{
 "cells": [
  {
   "cell_type": "code",
   "execution_count": 120,
   "metadata": {},
   "outputs": [],
   "source": [
    "import pandas as pd\n",
    "from sklearn.svm import SVC\n",
    "from sklearn.metrics import classification_report, f1_score"
   ]
  },
  {
   "cell_type": "code",
   "execution_count": 121,
   "metadata": {},
   "outputs": [],
   "source": [
    "train_df = pd.read_csv(\"anonymous/path/to/data\")\n",
    "X_train = train_df.iloc[:, :-1]  \n",
    "y_train = train_df.iloc[:, -1] "
   ]
  },
  {
   "cell_type": "code",
   "execution_count": 122,
   "metadata": {},
   "outputs": [],
   "source": [
    "test_df = pd.read_csv(\"anonymous/path/to/data\")\n",
    "X_test = test_df.iloc[:, :-1]\n",
    "y_test = test_df.iloc[:, -1] "
   ]
  },
  {
   "cell_type": "code",
   "execution_count": null,
   "metadata": {},
   "outputs": [],
   "source": [
    "X_train.shape, y_train.shape, X_test.shape, y_test.shape"
   ]
  },
  {
   "cell_type": "code",
   "execution_count": null,
   "metadata": {},
   "outputs": [],
   "source": [
    "y_train.tolist().count(0), y_train.tolist().count(1), y_train.tolist().count(2), y_train.tolist().count(3), y_train.tolist().count(4), y_train.tolist().count(5), y_train.tolist().count(6), "
   ]
  },
  {
   "cell_type": "code",
   "execution_count": null,
   "metadata": {},
   "outputs": [],
   "source": [
    "y_test.tolist().count(0), y_test.tolist().count(1), y_test.tolist().count(2), y_test.tolist().count(3), y_test.tolist().count(4), y_test.tolist().count(5), y_test.tolist().count(6), "
   ]
  },
  {
   "cell_type": "code",
   "execution_count": 126,
   "metadata": {},
   "outputs": [],
   "source": [
    "# svm_model = SVC(kernel=\"linear\")\n",
    "# svm_model.fit(X_train, y_train)\n",
    "# y_pred = svm_model.predict(X_test)"
   ]
  },
  {
   "cell_type": "code",
   "execution_count": 127,
   "metadata": {},
   "outputs": [],
   "source": [
    "# svm_model = SVC(kernel=\"rbf\", C=1225, gamma=0.05, class_weight=\"balanced\")\n",
    "# svm_model.fit(X_train, y_train)\n",
    "# y_pred = svm_model.predict(X_test)"
   ]
  },
  {
   "cell_type": "code",
   "execution_count": 128,
   "metadata": {},
   "outputs": [],
   "source": [
    "# svm_model = SVC(kernel=\"rbf\", C=700, gamma=0.05, class_weight = {0: 3.23, 1: 10.55, 2: 6.79, 3: 10.72, 4: 5.41, 5: 25.65, 6: 7.61})\n",
    "# svm_model.fit(X_train, y_train)\n",
    "# y_pred = svm_model.predict(X_test)"
   ]
  },
  {
   "cell_type": "code",
   "execution_count": 129,
   "metadata": {},
   "outputs": [],
   "source": [
    "# svm_model = SVC(kernel=\"poly\", degree=5, C=100)\n",
    "# svm_model.fit(X_train, y_train)\n",
    "# y_pred = svm_model.predict(X_test)"
   ]
  },
  {
   "cell_type": "code",
   "execution_count": 130,
   "metadata": {},
   "outputs": [],
   "source": [
    "# svm_model = SVC(kernel=\"sigmoid\", C=0.05)\n",
    "# svm_model.fit(X_train, y_train)\n",
    "# y_pred = svm_model.predict(X_test)"
   ]
  },
  {
   "cell_type": "code",
   "execution_count": null,
   "metadata": {},
   "outputs": [],
   "source": [
    "print(classification_report(y_test, y_pred))\n",
    "print(\"Final F1 Score:\", f1_score(y_test, y_pred, average='macro'))"
   ]
  }
 ],
 "metadata": {
  "kernelspec": {
   "display_name": "TorchEnv2",
   "language": "python",
   "name": "python3"
  },
  "language_info": {
   "codemirror_mode": {
    "name": "ipython",
    "version": 3
   },
   "file_extension": ".py",
   "mimetype": "text/x-python",
   "name": "python",
   "nbconvert_exporter": "python",
   "pygments_lexer": "ipython3",
   "version": "3.12.8"
  }
 },
 "nbformat": 4,
 "nbformat_minor": 2
}
